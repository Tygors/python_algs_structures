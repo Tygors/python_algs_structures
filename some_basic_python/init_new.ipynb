{
 "cells": [
  {
   "cell_type": "markdown",
   "source": [
    "__init__是初始化方法，用于在创建对象后初始化该对象的属性\n",
    "__new__用于创建对象"
   ],
   "metadata": {
    "collapsed": false
   }
  },
  {
   "cell_type": "markdown",
   "source": [
    "如果在类中定义__new__方法，以及__init__方法时，python首先调用__new__方法来创建对象，然后再调用__init__方法来初始化对象的属性\n",
    "其他编程语言中，只需要构造函数就可以同时完成创建和初始化对象，但Python则分别具有构造函数和初始化器"
   ],
   "metadata": {
    "collapsed": false
   }
  },
  {
   "cell_type": "code",
   "execution_count": 2,
   "outputs": [],
   "source": [
    "class Name:\n",
    "    # 创建一个new方法\n",
    "    def __new__(cls, *args, **kwargs):\n",
    "        print(\"called __new__ method\")\n",
    "        return super(Name,cls).__new__(cls)\n",
    "\n",
    "    def __init__(self):\n",
    "        print(\"called __init__ method\")"
   ],
   "metadata": {
    "collapsed": false
   }
  },
  {
   "cell_type": "code",
   "execution_count": 3,
   "outputs": [
    {
     "name": "stdout",
     "output_type": "stream",
     "text": [
      "called __new__ method\n",
      "called __init__ method\n"
     ]
    }
   ],
   "source": [
    "name = Name()"
   ],
   "metadata": {
    "collapsed": false
   }
  },
  {
   "cell_type": "code",
   "execution_count": 4,
   "outputs": [
    {
     "data": {
      "text/plain": "<__main__.Name at 0x1fe73f1af40>"
     },
     "execution_count": 4,
     "metadata": {},
     "output_type": "execute_result"
    }
   ],
   "source": [
    "name"
   ],
   "metadata": {
    "collapsed": false
   }
  },
  {
   "cell_type": "code",
   "execution_count": 5,
   "outputs": [
    {
     "name": "stdout",
     "output_type": "stream",
     "text": [
      "<__main__.Name object at 0x000001FE73F1AF40>\n"
     ]
    }
   ],
   "source": [
    "print(name)"
   ],
   "metadata": {
    "collapsed": false
   }
  },
  {
   "cell_type": "code",
   "execution_count": 20,
   "outputs": [],
   "source": [
    "class Reverse(str):\n",
    "    def __new__(cls, sequence):\n",
    "        return super().__new__(cls, sequence[::-1])\n",
    "    def __init__(self, seq_):\n",
    "        print(self)\n",
    "        print(seq_)"
   ],
   "metadata": {
    "collapsed": false
   }
  },
  {
   "cell_type": "code",
   "execution_count": 21,
   "outputs": [
    {
     "name": "stdout",
     "output_type": "stream",
     "text": [
      "nohtypkeeg\n",
      "geekpython\n"
     ]
    }
   ],
   "source": [
    "seq = Reverse(\"geekpython\")"
   ],
   "metadata": {
    "collapsed": false
   }
  },
  {
   "cell_type": "code",
   "execution_count": 22,
   "outputs": [
    {
     "name": "stdout",
     "output_type": "stream",
     "text": [
      "nohtypkeeg\n"
     ]
    }
   ],
   "source": [
    "print(seq)"
   ],
   "metadata": {
    "collapsed": false
   }
  },
  {
   "cell_type": "markdown",
   "source": [
    "----"
   ],
   "metadata": {
    "collapsed": false
   }
  },
  {
   "cell_type": "markdown",
   "source": [
    "__init__方法通常用于初始化对象的属性（带或不带默认值）"
   ],
   "metadata": {
    "collapsed": false
   }
  },
  {
   "cell_type": "code",
   "execution_count": 32,
   "outputs": [],
   "source": [
    "class Language:\n",
    "    def __new__(cls, *args, **kwargs):\n",
    "        return super(Language,cls).__new__(cls)\n",
    "\n",
    "    def __init__(self, lang=\"python\", Year=1991):\n",
    "        self.lang = lang\n",
    "        self.year = Year\n",
    "\n",
    "    def show(self):\n",
    "        print(f\"language: {self.lang}, 创建于：{self.year}\")"
   ],
   "metadata": {
    "collapsed": false
   }
  },
  {
   "cell_type": "code",
   "execution_count": 33,
   "outputs": [
    {
     "name": "stdout",
     "output_type": "stream",
     "text": [
      "<__main__.Language object at 0x000001FE740EDD30>\n",
      "language: python, 创建于：1991\n"
     ]
    }
   ],
   "source": [
    "language = Language()\n",
    "print(language)\n",
    "language.show()"
   ],
   "metadata": {
    "collapsed": false
   }
  },
  {
   "cell_type": "code",
   "execution_count": null,
   "outputs": [],
   "source": [],
   "metadata": {
    "collapsed": false
   }
  }
 ],
 "metadata": {
  "kernelspec": {
   "display_name": "Python 3",
   "language": "python",
   "name": "python3"
  },
  "language_info": {
   "codemirror_mode": {
    "name": "ipython",
    "version": 2
   },
   "file_extension": ".py",
   "mimetype": "text/x-python",
   "name": "python",
   "nbconvert_exporter": "python",
   "pygments_lexer": "ipython2",
   "version": "2.7.6"
  }
 },
 "nbformat": 4,
 "nbformat_minor": 0
}
