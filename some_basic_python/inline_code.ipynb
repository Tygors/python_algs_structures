{
 "cells": [
  {
   "cell_type": "code",
   "execution_count": 1,
   "outputs": [],
   "source": [
    "# 初学Python必须知道的13个强大单行代码"
   ],
   "metadata": {
    "collapsed": false
   }
  },
  {
   "cell_type": "code",
   "execution_count": 2,
   "metadata": {},
   "outputs": [
    {
     "name": "stdout",
     "output_type": "stream",
     "text": [
      "[1, 2, 3, 4, 5, 6, 7, 8, 9, 10]\n"
     ]
    }
   ],
   "source": [
    "# 1、快速生成等差数列\n",
    "num_list = [i for i in range(1, 11)]\n",
    "print(num_list)"
   ]
  },
  {
   "cell_type": "code",
   "execution_count": 3,
   "metadata": {},
   "outputs": [
    {
     "name": "stdout",
     "output_type": "stream",
     "text": [
      "!dlroW ,olleH\n",
      "Hlo ol!\n",
      "Hello, World!\n",
      "Hello, World\n",
      "d!\n"
     ]
    }
   ],
   "source": [
    "# 2、一键反转字符串\n",
    "str = \"Hello, World!\"\n",
    "print(str[::-1])\n",
    "print(str[::2])\n",
    "print(str[:])\n",
    "print(str[:-1])\n",
    "print(str[-2:])"
   ]
  },
  {
   "cell_type": "code",
   "execution_count": 4,
   "outputs": [
    {
     "name": "stdout",
     "output_type": "stream",
     "text": [
      "[1, 2, 3, 4, 5]\n"
     ]
    }
   ],
   "source": [
    "# 3、一行实现列表去重\n",
    "dup_list = [1, 2, 2, 3,4, 4, 5]\n",
    "\n",
    "unique_list = list(set(dup_list))\n",
    "\n",
    "print(unique_list)"
   ],
   "metadata": {
    "collapsed": false
   }
  },
  {
   "cell_type": "code",
   "execution_count": 5,
   "outputs": [
    {
     "name": "stdout",
     "output_type": "stream",
     "text": [
      "120\n"
     ]
    }
   ],
   "source": [
    "# 4、简洁计算阶乘\n",
    "n = 5\n",
    "# lambda函数赋给factorial\n",
    "factorial = lambda k:1 if k==0 else k*factorial(k-1)\n",
    "\n",
    "print(factorial(n))"
   ],
   "metadata": {
    "collapsed": false
   }
  },
  {
   "cell_type": "code",
   "execution_count": 6,
   "outputs": [
    {
     "name": "stdout",
     "output_type": "stream",
     "text": [
      "2\n",
      "2\n",
      "5\n"
     ]
    }
   ],
   "source": [
    "# 5、轻松统计字符串中单词出现次数\n",
    "text = \"hello world hello pythonic python\"\n",
    "\n",
    "word_cnt = text.count(\"hello\")\n",
    "\n",
    "print(word_cnt)\n",
    "print(text.count(\"python\"))\n",
    "print(text.count(\"o\"))"
   ],
   "metadata": {
    "collapsed": false,
    "pycharm": {
     "name": "#%%s's's\n"
    }
   }
  },
  {
   "cell_type": "code",
   "execution_count": 7,
   "outputs": [
    {
     "name": "stdout",
     "output_type": "stream",
     "text": [
      "[0, 1, 1, 2, 3, 5, 8, 13, 21, 34]\n"
     ]
    }
   ],
   "source": [
    "# 6、一行代码实现斐波那契数列\n",
    "fibonacci = []\n",
    "k = 10\n",
    "for _ in range(1,k):\n",
    "    fibonacci = [0, 1] + [a + b for a, b in zip(fibonacci, fibonacci[1:])]\n",
    "\n",
    "print(fibonacci)"
   ],
   "metadata": {
    "collapsed": false
   }
  },
  {
   "cell_type": "code",
   "execution_count": 8,
   "outputs": [
    {
     "name": "stdout",
     "output_type": "stream",
     "text": [
      "[0, 1, 1, 2, 3, 5, 8, 13, 21, 34]\n"
     ]
    }
   ],
   "source": [
    "fibonacci = [0, 1]\n",
    "[fibonacci.append(fibonacci[i] + fibonacci[i+1]) for i in range(8)]\n",
    "print(fibonacci)"
   ],
   "metadata": {
    "collapsed": false
   }
  },
  {
   "cell_type": "code",
   "execution_count": 9,
   "outputs": [
    {
     "name": "stdout",
     "output_type": "stream",
     "text": [
      "before 10 20\n",
      "after 20 10\n"
     ]
    }
   ],
   "source": [
    "# 7、快速交换两个变量值\n",
    "a = 10\n",
    "b = 20\n",
    "print(\"before\",a,b)\n",
    "a, b = b, a\n",
    "print(\"after\",a,b)"
   ],
   "metadata": {
    "collapsed": false
   }
  },
  {
   "cell_type": "code",
   "execution_count": 10,
   "outputs": [
    {
     "name": "stdout",
     "output_type": "stream",
     "text": [
      "7\n"
     ]
    }
   ],
   "source": [
    "# 8、一行代码求最大公约数\n",
    "import math\n",
    "gcd = math.gcd(49, 14)\n",
    "print(gcd)"
   ],
   "metadata": {
    "collapsed": false
   }
  },
  {
   "cell_type": "code",
   "execution_count": 11,
   "outputs": [
    {
     "name": "stdout",
     "output_type": "stream",
     "text": [
      "['cherry', 'pear', 'apple', 'banana']\n",
      "[2, 3, 0, 1]\n",
      "['cherry', 'pear', 'apple', 'banana']\n"
     ]
    }
   ],
   "source": [
    "# 9、列表元素排序并保持原索引\n",
    "fruits = [\"cherry\", \"pear\", \"apple\", \"banana\"]\n",
    "\n",
    "sorted_fruits = sorted(range(len(fruits)), key=lambda i: fruits[i])\n",
    "print(fruits)\n",
    "print(sorted_fruits)\n",
    "print(fruits)"
   ],
   "metadata": {
    "collapsed": false
   }
  },
  {
   "cell_type": "code",
   "execution_count": 12,
   "outputs": [
    {
     "name": "stdout",
     "output_type": "stream",
     "text": [
      "[0, 1, 2, 3, 4, 5]\n",
      "[0, 1, 4, 9, 16, 25]\n"
     ]
    }
   ],
   "source": [
    "# 10、使用列表推导式生成新列表\n",
    "numbers = [0, 1, 2, 3, 4, 5]\n",
    "squared_numbers = [num**2 for num in numbers]\n",
    "print(numbers)\n",
    "print(squared_numbers)"
   ],
   "metadata": {
    "collapsed": false
   }
  },
  {
   "cell_type": "code",
   "execution_count": 13,
   "outputs": [
    {
     "name": "stdout",
     "output_type": "stream",
     "text": [
      "[[1, 2], [3, 4], [5, 6]]\n",
      "[[1, 3, 5], [2, 4, 6]]\n"
     ]
    }
   ],
   "source": [
    "# 11、 矩阵转置\n",
    "m = [\n",
    "    [1, 2],\n",
    "    [3, 4],\n",
    "    [5, 6]\n",
    "]\n",
    "print(m)\n",
    "transposed_m = list(map(list, zip(*m)))\n",
    "print(transposed_m)"
   ],
   "metadata": {
    "collapsed": false
   }
  },
  {
   "cell_type": "code",
   "execution_count": 14,
   "outputs": [
    {
     "data": {
      "text/plain": "True"
     },
     "execution_count": 14,
     "metadata": {},
     "output_type": "execute_result"
    }
   ],
   "source": [
    "# 12、 判断素数\n",
    "all(19 % i != 0 for i in range(2, int(19**0.5)+1))"
   ],
   "metadata": {
    "collapsed": false
   }
  },
  {
   "cell_type": "code",
   "execution_count": 15,
   "outputs": [
    {
     "name": "stdout",
     "output_type": "stream",
     "text": [
      "True\n"
     ]
    }
   ],
   "source": [
    "def is_prime(n):\n",
    "    return all(n % i != 0 for i in range(2, int(n**0.5)+1))\n",
    "print(is_prime(13))"
   ],
   "metadata": {
    "collapsed": false
   }
  },
  {
   "cell_type": "code",
   "execution_count": 16,
   "outputs": [
    {
     "name": "stdout",
     "output_type": "stream",
     "text": [
      "[('A', 1), ('A', 2), ('B', 1), ('B', 2)]\n"
     ]
    }
   ],
   "source": [
    "# 利用itertools生成笛卡尔积\n",
    "import itertools\n",
    "cartesian_product = list(itertools.product([\"A\",\"B\"], [1, 2]))\n",
    "print(cartesian_product)"
   ],
   "metadata": {
    "collapsed": false
   }
  },
  {
   "cell_type": "markdown",
   "source": [
    "---"
   ],
   "metadata": {
    "collapsed": false
   }
  },
  {
   "cell_type": "code",
   "execution_count": 19,
   "outputs": [
    {
     "name": "stdout",
     "output_type": "stream",
     "text": [
      "Counter({'b': 1, 'e': 1, 'l': 1, 'o': 1, 'w': 1})\n",
      "Counter({'e': 1, 'l': 1, 'b': 1, 'o': 1, 'w': 1})\n",
      "<class 'collections.Counter'>\n",
      "yes\n"
     ]
    }
   ],
   "source": [
    "# 字母移位词：猜字母的个数和频次是否相同(相同字母异序词)\n",
    "from collections import Counter\n",
    "s1 = \"below\"\n",
    "s2 = \"elbow\"\n",
    "print(Counter(s1))\n",
    "print(Counter(s2))\n",
    "print(type(Counter(s1)))\n",
    "print(\"yes\") if Counter(s1) == Counter(s2) else print(\"no\")"
   ],
   "metadata": {
    "collapsed": false
   }
  },
  {
   "cell_type": "code",
   "execution_count": 23,
   "outputs": [
    {
     "name": "stdout",
     "output_type": "stream",
     "text": [
      "['b', 'e', 'l', 'o', 'w']\n",
      "['b', 'e', 'l', 'o', 'o', 'w']\n",
      "no\n"
     ]
    }
   ],
   "source": [
    "# 另一种方案\n",
    "s1 = \"below\"\n",
    "s2 = \"elboow\"\n",
    "print(sorted(s1))\n",
    "print(sorted(s2))\n",
    "print(\"yes\") if sorted(s1) == sorted(s2) else print(\"no\")"
   ],
   "metadata": {
    "collapsed": false
   }
  },
  {
   "cell_type": "code",
   "execution_count": 26,
   "outputs": [
    {
     "name": "stdout",
     "output_type": "stream",
     "text": [
      "10\n"
     ]
    }
   ],
   "source": [
    "# 二进制转十进制\n",
    "dec = int(\"1010\",2)\n",
    "print(dec)"
   ],
   "metadata": {
    "collapsed": false
   }
  },
  {
   "cell_type": "code",
   "execution_count": 29,
   "outputs": [
    {
     "name": "stdout",
     "output_type": "stream",
     "text": [
      "horobod\n",
      "horobod\n"
     ]
    }
   ],
   "source": [
    "# 转换为小写字母\n",
    "s = \"HOrobOD\"\n",
    "print(s.lower())\n",
    "print(s.casefold())"
   ],
   "metadata": {
    "collapsed": false
   }
  },
  {
   "cell_type": "code",
   "execution_count": 30,
   "outputs": [
    {
     "name": "stdout",
     "output_type": "stream",
     "text": [
      "HOROBOD\n"
     ]
    }
   ],
   "source": [
    "# 转换为大写字母\n",
    "s = \"HOrobOD\"\n",
    "print(s.upper())"
   ],
   "metadata": {
    "collapsed": false
   }
  },
  {
   "cell_type": "code",
   "execution_count": 32,
   "outputs": [
    {
     "name": "stdout",
     "output_type": "stream",
     "text": [
      "b'HOrobOD'\n"
     ]
    }
   ],
   "source": [
    "# 字符串转换为字节类型\n",
    "b_s = s.encode()\n",
    "print(b_s)"
   ],
   "metadata": {
    "collapsed": false
   }
  },
  {
   "cell_type": "code",
   "execution_count": 35,
   "outputs": [
    {
     "name": "stdout",
     "output_type": "stream",
     "text": [
      "HOrobOD\n"
     ]
    }
   ],
   "source": [
    "s = b_s.decode()\n",
    "print(s)"
   ],
   "metadata": {
    "collapsed": false
   }
  },
  {
   "cell_type": "code",
   "execution_count": 2,
   "outputs": [
    {
     "data": {
      "text/plain": "'dest.txt'"
     },
     "execution_count": 2,
     "metadata": {},
     "output_type": "execute_result"
    }
   ],
   "source": [
    "# 复制文件\n",
    "import shutil\n",
    "import os\n",
    "source_file_name = \"source.txt\"\n",
    "if os.path.isfile(source_file_name):\n",
    "    pass\n",
    "else:\n",
    "    with open(source_file_name,'w') as wf:\n",
    "        wf.write(\"test\")\n",
    "# 复制文件\n",
    "shutil.copyfile(source_file_name,\"dest.txt\")"
   ],
   "metadata": {
    "collapsed": false
   }
  },
  {
   "cell_type": "code",
   "execution_count": 3,
   "outputs": [
    {
     "data": {
      "text/plain": "[1, 2, 3, 4, 7]"
     },
     "execution_count": 3,
     "metadata": {},
     "output_type": "execute_result"
    }
   ],
   "source": [
    "# 快速排序\n",
    "li = [3,1,2,7,4]\n",
    "qsort = lambda l : l \\\n",
    "    if len(l)<=1 \\\n",
    "    else qsort([x for x in l[1:] \\\n",
    "    if x < l[0]]) + [l[0]] + qsort([x for x in l[1:] if x >= l[0]])\n",
    "qsort(li)"
   ],
   "metadata": {
    "collapsed": false
   }
  },
  {
   "cell_type": "code",
   "execution_count": 4,
   "outputs": [
    {
     "name": "stdout",
     "output_type": "stream",
     "text": [
      "28\n"
     ]
    }
   ],
   "source": [
    "# n个连续数之和\n",
    "n = 7\n",
    "print(sum(range(0,n+1)))"
   ],
   "metadata": {
    "collapsed": false
   }
  },
  {
   "cell_type": "code",
   "execution_count": 6,
   "outputs": [
    {
     "name": "stdout",
     "output_type": "stream",
     "text": [
      "28\n"
     ]
    }
   ],
   "source": [
    "# 连续数之和可以直接用公式(sum函数效率不高)\n",
    "sum_n = n*(n+1)//2\n",
    "print(sum_n)"
   ],
   "metadata": {
    "collapsed": false
   }
  },
  {
   "cell_type": "code",
   "execution_count": 7,
   "outputs": [
    {
     "data": {
      "text/plain": "17711"
     },
     "execution_count": 7,
     "metadata": {},
     "output_type": "execute_result"
    }
   ],
   "source": [
    "# 斐波那契数列\n",
    "fib = lambda x : x if x<=1 else fib(x-1) + fib(x-2)\n",
    "fib(22)"
   ],
   "metadata": {
    "collapsed": false
   }
  },
  {
   "cell_type": "code",
   "execution_count": 8,
   "outputs": [
    {
     "data": {
      "text/plain": "21"
     },
     "execution_count": 8,
     "metadata": {},
     "output_type": "execute_result"
    }
   ],
   "source": [
    "fib(8)"
   ],
   "metadata": {
    "collapsed": false
   }
  },
  {
   "cell_type": "code",
   "execution_count": 15,
   "outputs": [
    {
     "name": "stdout",
     "output_type": "stream",
     "text": [
      "[1, 2, 3, 5, 4, [7], 6]\n"
     ]
    }
   ],
   "source": [
    "# 将嵌套列表合并为一个列表\n",
    "main_list = [[1],[2],[3,5],[4,[7]],[6]]\n",
    "main_list = [item for sublist in main_list for item in sublist]\n",
    "print(main_list)"
   ],
   "metadata": {
    "collapsed": false
   }
  },
  {
   "cell_type": "code",
   "execution_count": 24,
   "outputs": [
    {
     "name": "stdout",
     "output_type": "stream",
     "text": [
      "[1, 2, 3, 4, 6, 8, 0]\n",
      "[1, 2, 3, 4, 6, 8, 0, 9]\n",
      "[1, 2, 3, 4, 6, 8, 0]\n",
      "[1, 2, 3, 4, 6, 8, 0, 9]\n",
      "[1, 3, 6, 0]\n",
      "[1, 2, 3, 4, 6, 8, 0, 9]\n",
      "[9, 0, 8, 6, 4, 3, 2, 1]\n"
     ]
    }
   ],
   "source": [
    "# 反转列表\n",
    "numbers = [1,2,3,4,6,8,0,9]\n",
    "print(numbers[0:-1]) # [1, 2, 3, 4, 6, 8, 0]\n",
    "\n",
    "print(numbers[0:]) # [1, 2, 3, 4, 6, 8, 0, 9]\n",
    "\n",
    "print(numbers[:-1]) # [1, 2, 3, 4, 6, 8, 0]\n",
    "\n",
    "print(numbers[:]) # [1, 2, 3, 4, 6, 8, 0, 9]\n",
    "\n",
    "print(numbers[::2]) # [1, 3, 6, 0]\n",
    "\n",
    "print(numbers[::1]) # [1, 2, 3, 4, 6, 8, 0, 9]\n",
    "\n",
    "print(numbers[::-1]) # [9, 0, 8, 6, 4, 3, 2, 1]"
   ],
   "metadata": {
    "collapsed": false
   }
  },
  {
   "cell_type": "code",
   "execution_count": 26,
   "outputs": [
    {
     "name": "stdout",
     "output_type": "stream",
     "text": [
      "[9, 0, 8, 6, 4, 3, 2]\n",
      "[9, 0, 8, 6, 4, 3]\n",
      "[9, 0, 8, 6, 4, 3]\n",
      "[0, 8, 6, 4, 3]\n",
      "[9, 8, 4]\n"
     ]
    }
   ],
   "source": [
    "numbers = [1,2,3,4,6,8,0,9]\n",
    "print(numbers[:0:-1]) # [9, 0, 8, 6, 4, 3, 2]\n",
    "\n",
    "print(numbers[:1:-1]) # [9, 0, 8, 6, 4, 3]\n",
    "\n",
    "print(numbers[-1:1:-1]) # [9, 0, 8, 6, 4, 3]\n",
    "\n",
    "print(numbers[-2:1:-1]) # [0, 8, 6, 4, 3]\n",
    "\n",
    "print(numbers[:1:-2]) # [9, 8, 4]"
   ],
   "metadata": {
    "collapsed": false
   }
  },
  {
   "cell_type": "code",
   "execution_count": 30,
   "outputs": [
    {
     "name": "stdout",
     "output_type": "stream",
     "text": [
      "5040\n",
      "6\n"
     ]
    }
   ],
   "source": [
    "# 求一个数的阶乘\n",
    "import math\n",
    "fact_7 = math.factorial(7)\n",
    "print(fact_7)\n",
    "print(math.factorial(3)) # 1*2*3"
   ],
   "metadata": {
    "collapsed": false
   }
  },
  {
   "cell_type": "code",
   "execution_count": 32,
   "outputs": [
    {
     "name": "stdout",
     "output_type": "stream",
     "text": [
      "[2, 4]\n"
     ]
    }
   ],
   "source": [
    "# 使用for和if的列表解析\n",
    "even_list = [number for number in [1,2,3,4] if number % 2 == 0]\n",
    "print(even_list)"
   ],
   "metadata": {
    "collapsed": false
   }
  },
  {
   "cell_type": "code",
   "execution_count": 41,
   "outputs": [
    {
     "name": "stdout",
     "output_type": "stream",
     "text": [
      "words\n",
      "of\n"
     ]
    }
   ],
   "source": [
    "# 从列表中得到最长的字符串\n",
    "words = ['this', 'is', 'as', 'list', 'of', 'words']\n",
    "print(max(words, key=len))\n",
    "print(min(words, key=lambda x: x[1]))"
   ],
   "metadata": {
    "collapsed": false
   }
  },
  {
   "cell_type": "code",
   "execution_count": 44,
   "outputs": [
    {
     "name": "stdout",
     "output_type": "stream",
     "text": [
      "[0, 2, 4, 6, 8, 10, 12, 14, 16, 18, 20, 22, 24, 26, 28, 30, 32, 34, 36, 38, 40, 42, 44, 46, 48, 50, 52, 54, 56, 58, 60, 62, 64, 66, 68, 70, 72, 74, 76, 78, 80, 82, 84, 86, 88, 90, 92, 94, 96, 98]\n"
     ]
    }
   ],
   "source": [
    "# 列表推导式\n",
    "li = [num for num in range(0,100,2)]\n",
    "print(li)"
   ],
   "metadata": {
    "collapsed": false
   }
  },
  {
   "cell_type": "code",
   "execution_count": 47,
   "outputs": [
    {
     "name": "stdout",
     "output_type": "stream",
     "text": [
      "{0, 1, 2, 3, 4, 5, 6, 7, 8, 9, 10, 11, 12, 13, 14, 15, 16, 17, 18, 19, 20, 21, 22, 23, 24, 25, 26, 27, 28, 29, 30, 31, 32, 33, 34, 35, 36, 37, 38, 39, 40, 41, 42, 43, 44, 45, 46, 47, 48, 49, 50, 51, 52, 53, 54, 55, 56, 57, 58, 59, 60, 61, 62, 63, 64, 65, 66, 67, 68, 69, 70, 71, 72, 73, 74, 75, 76, 77, 78, 79, 80, 81, 82, 83, 84, 85, 86, 87, 88, 89, 90, 91, 92, 93, 94, 95, 96, 97, 98, 99}\n",
      "<class 'set'>\n"
     ]
    }
   ],
   "source": [
    "# 集合推导式\n",
    "num_set = {num for num in range(0,100)}\n",
    "print(num_set)\n",
    "print(type(num_set))"
   ],
   "metadata": {
    "collapsed": false
   }
  },
  {
   "cell_type": "code",
   "execution_count": 50,
   "outputs": [
    {
     "name": "stdout",
     "output_type": "stream",
     "text": [
      "{'1': 1, '2': 4, '3': 9, '4': 16}\n"
     ]
    }
   ],
   "source": [
    "# 字典推导式\n",
    "dict_numbers = {f\"{x}\": x*x for x in range(1,5)}\n",
    "print(dict_numbers)"
   ],
   "metadata": {
    "collapsed": false
   }
  },
  {
   "cell_type": "code",
   "execution_count": 51,
   "outputs": [
    {
     "name": "stdout",
     "output_type": "stream",
     "text": [
      "even\n"
     ]
    }
   ],
   "source": [
    "# if-else\n",
    "print(\"even\") if 4%2==0 else print(\"odd\")"
   ],
   "metadata": {
    "collapsed": false
   }
  },
  {
   "cell_type": "markdown",
   "source": [
    "无限循环\n",
    "while 1: print(0)"
   ],
   "metadata": {
    "collapsed": false
   }
  },
  {
   "cell_type": "code",
   "execution_count": 54,
   "outputs": [
    {
     "name": "stdout",
     "output_type": "stream",
     "text": [
      "True\n",
      "True\n",
      "True\n",
      "False\n"
     ]
    }
   ],
   "source": [
    "# 检查数据类型\n",
    "print(isinstance(2, int))\n",
    "print(isinstance(\"allwin\", str))\n",
    "print(isinstance([3,\"allwin\",1997], list))\n",
    "print(isinstance(2, float))"
   ],
   "metadata": {
    "collapsed": false
   }
  },
  {
   "cell_type": "code",
   "execution_count": 55,
   "outputs": [
    {
     "name": "stdout",
     "output_type": "stream",
     "text": [
      "5\n",
      "4\n",
      "3\n",
      "2\n",
      "1\n"
     ]
    }
   ],
   "source": [
    "# while循环\n",
    "a = 5\n",
    "while a > 0 : print(a); a -= 1"
   ],
   "metadata": {
    "collapsed": false
   }
  },
  {
   "cell_type": "code",
   "execution_count": 56,
   "outputs": [],
   "source": [
    "# 使用print写入文件\n",
    "print(\"helloWorld\", file=open(\"hello.txt\", \"w\"))"
   ],
   "metadata": {
    "collapsed": false
   }
  },
  {
   "cell_type": "code",
   "execution_count": 57,
   "outputs": [
    {
     "name": "stdout",
     "output_type": "stream",
     "text": [
      "2\n",
      "1\n"
     ]
    }
   ],
   "source": [
    "# 计算字符串中某个字符出现的频率\n",
    "print(\"umbrella\".count(\"l\"))\n",
    "print(\"umbrella\".count(\"a\"))"
   ],
   "metadata": {
    "collapsed": false
   }
  },
  {
   "cell_type": "code",
   "execution_count": 58,
   "outputs": [
    {
     "name": "stdout",
     "output_type": "stream",
     "text": [
      "[2, [3]]\n",
      "[[4], [5, [6, 7]]]\n",
      "[2, [3], [[4], [5, [6, 7]]]]\n",
      "[[4], [5, [6, 7]]]\n"
     ]
    }
   ],
   "source": [
    "# 合并两个列表\n",
    "list_1 = [2,[3]]\n",
    "list_2 = [[4],[5,[6,7]]]\n",
    "print(list_1)\n",
    "print(list_2)\n",
    "list_1.append(list_2)\n",
    "print(list_1)\n",
    "print(list_2)"
   ],
   "metadata": {
    "collapsed": false
   }
  },
  {
   "cell_type": "code",
   "execution_count": 59,
   "outputs": [
    {
     "name": "stdout",
     "output_type": "stream",
     "text": [
      "{'1': 1, '2': 4, '3': 9, '4': 16}\n",
      "{1: 1, 2: 4, 3: 9, 4: 16}\n",
      "{'1': 1, '2': 4, '3': 9, '4': 16, 1: 1, 2: 4, 3: 9, 4: 16}\n",
      "{1: 1, 2: 4, 3: 9, 4: 16}\n"
     ]
    }
   ],
   "source": [
    "# 合并两个字典\n",
    "dict_1 = {'1': 1, '2': 4, '3': 9, '4': 16}\n",
    "dict_2 = {1: 1, 2: 4, 3: 9, 4: 16}\n",
    "print(dict_1)\n",
    "print(dict_2)\n",
    "dict_1.update(dict_2)\n",
    "print(dict_1)\n",
    "print(dict_2)"
   ],
   "metadata": {
    "collapsed": false
   }
  },
  {
   "cell_type": "code",
   "execution_count": 61,
   "outputs": [
    {
     "name": "stdout",
     "output_type": "stream",
     "text": [
      "{1, 2, 3} <class 'set'>\n",
      "{2, 3, 4} <class 'set'>\n",
      "{1, 2, 3, 4} <class 'set'>\n",
      "{2, 3, 4} <class 'set'>\n"
     ]
    }
   ],
   "source": [
    "# 合并两个集合\n",
    "set_1 = {1,2,3}\n",
    "set_2 = {2,3,4}\n",
    "print(set_1,type(set_1))\n",
    "print(set_2,type(set_2))\n",
    "set_1.update(set_2)\n",
    "print(set_1,type(set_1))\n",
    "print(set_2,type(set_2))"
   ],
   "metadata": {
    "collapsed": false
   }
  },
  {
   "cell_type": "code",
   "execution_count": 62,
   "outputs": [
    {
     "name": "stdout",
     "output_type": "stream",
     "text": [
      "1715761815.6658165\n"
     ]
    }
   ],
   "source": [
    "# 时间戳\n",
    "import time\n",
    "print(time.time())"
   ],
   "metadata": {
    "collapsed": false
   }
  },
  {
   "cell_type": "code",
   "execution_count": 29,
   "outputs": [
    {
     "name": "stdout",
     "output_type": "stream",
     "text": [
      "Wed May 15 18:54:37 2024\n"
     ]
    }
   ],
   "source": [
    "# 日期时间\n",
    "import time\n",
    "print(time.ctime())"
   ],
   "metadata": {
    "collapsed": false
   }
  },
  {
   "cell_type": "code",
   "execution_count": 1,
   "outputs": [
    {
     "name": "stdout",
     "output_type": "stream",
     "text": [
      "4\n"
     ]
    }
   ],
   "source": [
    "# 出现次数最多的元素\n",
    "numbers = [9, 4, 5, 4, 4, 5, 9, 5, 4]\n",
    "most_frequent_element = max(set(numbers), key=numbers.count)\n",
    "print(most_frequent_element)"
   ],
   "metadata": {
    "collapsed": false
   }
  },
  {
   "cell_type": "code",
   "execution_count": 4,
   "outputs": [
    {
     "name": "stdout",
     "output_type": "stream",
     "text": [
      "[(4, 4), (5, 3), (9, 2), (1, 1)]\n",
      "4\n"
     ]
    }
   ],
   "source": [
    "# 用collections库来找出次数最多的元素\n",
    "from collections import Counter\n",
    "numbers = [9, 4, 5, 4, 4, 5, 9, 5, 4, 1]\n",
    "print(Counter(numbers).most_common())\n",
    "print(Counter(numbers).most_common()[0][0]) # （元素，频次）"
   ],
   "metadata": {
    "collapsed": false
   }
  },
  {
   "cell_type": "code",
   "execution_count": 7,
   "outputs": [
    {
     "name": "stdout",
     "output_type": "stream",
     "text": [
      "[[0], 1, [2], 3, [4], 5, [6], 7, [8], 9]\n"
     ]
    }
   ],
   "source": [
    "# 嵌套的列表推导式\n",
    "numbers = [[num] if num%2==0 else num for num in range(10)]\n",
    "print(numbers)"
   ],
   "metadata": {
    "collapsed": false
   }
  },
  {
   "cell_type": "code",
   "execution_count": 8,
   "outputs": [
    {
     "name": "stdout",
     "output_type": "stream",
     "text": [
      "24\n"
     ]
    }
   ],
   "source": [
    "# 八进制转十进制\n",
    "print(int(\"30\",8))"
   ],
   "metadata": {
    "collapsed": false
   }
  },
  {
   "cell_type": "code",
   "execution_count": 9,
   "outputs": [
    {
     "data": {
      "text/plain": "{'name': 'allwin', 'age': 23}"
     },
     "execution_count": 9,
     "metadata": {},
     "output_type": "execute_result"
    }
   ],
   "source": [
    "# 将键值对转换为字典\n",
    "dict(name=\"allwin\", age=23)"
   ],
   "metadata": {
    "collapsed": false
   }
  },
  {
   "cell_type": "code",
   "execution_count": 12,
   "outputs": [
    {
     "name": "stdout",
     "output_type": "stream",
     "text": [
      "6\n",
      "1\n"
     ]
    }
   ],
   "source": [
    "\n",
    "# 计算商和余数\n",
    "quotinent, remainder = divmod(31,5)\n",
    "print(quotinent)\n",
    "print(remainder)"
   ],
   "metadata": {
    "collapsed": false
   }
  },
  {
   "cell_type": "code",
   "execution_count": 16,
   "outputs": [
    {
     "name": "stdout",
     "output_type": "stream",
     "text": [
      "[6, 6, 4, 4, 5]\n"
     ]
    },
    {
     "data": {
      "text/plain": "[4, 5, 6]"
     },
     "execution_count": 16,
     "metadata": {},
     "output_type": "execute_result"
    }
   ],
   "source": [
    "# 从列表中删除重复元素\n",
    "dup_list = [6,6,4,4,5]\n",
    "print(dup_list)\n",
    "list(set(dup_list))"
   ],
   "metadata": {
    "collapsed": false
   }
  },
  {
   "cell_type": "code",
   "execution_count": 20,
   "outputs": [
    {
     "name": "stdout",
     "output_type": "stream",
     "text": [
      "[1, 2, 5, 9]\n",
      "[5, 2, 9, 1]\n",
      "------------\n",
      "[5, 2, 9, 1]\n",
      "sorting None\n",
      "[1, 2, 5, 9]\n"
     ]
    }
   ],
   "source": [
    "# 对列表进行升序排序\n",
    "# 首先用sorted方法进行排序，并返回排序好的列表（不改变原列表）\n",
    "unorder_list = [5, 2, 9, 1]\n",
    "print(sorted(unorder_list))\n",
    "print(unorder_list)\n",
    "print(\"------------\")\n",
    "# 用sort方法排序，将直接修改列表，并且不返回新的列表\n",
    "un_li = [5, 2, 9, 1]\n",
    "print(un_li)\n",
    "print(\"sorting\",un_li.sort())\n",
    "print(un_li)"
   ],
   "metadata": {
    "collapsed": false
   }
  },
  {
   "cell_type": "code",
   "execution_count": 21,
   "outputs": [
    {
     "name": "stdout",
     "output_type": "stream",
     "text": [
      "[9, 5, 2, 1]\n"
     ]
    }
   ],
   "source": [
    "# 对列表进行降序排序\n",
    "unorder_list = [5, 2, 9, 1]\n",
    "sorted_list = sorted(unorder_list, reverse=True)\n",
    "print(sorted_list)"
   ],
   "metadata": {
    "collapsed": false
   }
  },
  {
   "cell_type": "code",
   "execution_count": 22,
   "outputs": [
    {
     "name": "stdout",
     "output_type": "stream",
     "text": [
      "abcdefghijklmnopqrstuvwxyz\n"
     ]
    }
   ],
   "source": [
    "# 获取所有小写字母\n",
    "import string\n",
    "print(string.ascii_lowercase)"
   ],
   "metadata": {
    "collapsed": false
   }
  },
  {
   "cell_type": "code",
   "execution_count": 24,
   "outputs": [
    {
     "name": "stdout",
     "output_type": "stream",
     "text": [
      "ABCDEFGHIJKLMNOPQRSTUVWXYZ <class 'str'>\n",
      "Z\n",
      "B\n"
     ]
    }
   ],
   "source": [
    "# 获取所有大写字母\n",
    "import string\n",
    "print(string.ascii_uppercase,type(string.ascii_uppercase))\n",
    "print(string.ascii_uppercase[-1])\n",
    "print(string.ascii_uppercase[1])"
   ],
   "metadata": {
    "collapsed": false
   }
  },
  {
   "cell_type": "code",
   "execution_count": 27,
   "outputs": [
    {
     "name": "stdout",
     "output_type": "stream",
     "text": [
      "0123456789\n"
     ]
    }
   ],
   "source": [
    "# 获取字符串类型中0-9的数字\n",
    "import string\n",
    "print(string.digits)"
   ],
   "metadata": {
    "collapsed": false
   }
  },
  {
   "cell_type": "code",
   "execution_count": 28,
   "outputs": [
    {
     "name": "stdout",
     "output_type": "stream",
     "text": [
      "4094\n"
     ]
    }
   ],
   "source": [
    "# 16进制转十进制\n",
    "print(int(\"FFE\",16))"
   ],
   "metadata": {
    "collapsed": false
   }
  },
  {
   "cell_type": "code",
   "execution_count": 30,
   "outputs": [
    {
     "name": "stdout",
     "output_type": "stream",
     "text": [
      "[1, 2, 3]\n"
     ]
    }
   ],
   "source": [
    "# 将列表元素的字符串类型转换为整型\n",
    "string_number = [\"1\",\"2\",\"3\"]\n",
    "print(list(map(int,string_number)))"
   ],
   "metadata": {
    "collapsed": false
   }
  },
  {
   "cell_type": "code",
   "execution_count": 32,
   "outputs": [
    {
     "data": {
      "text/plain": "{'eight': 8, 'five': 5, 'one': 1, 'three': 3}"
     },
     "execution_count": 32,
     "metadata": {},
     "output_type": "execute_result"
    }
   ],
   "source": [
    "# 按\"键\"对字典进行排序\n",
    "d = {'five': 5, 'one': 1, 'three': 3, 'eight': 8}\n",
    "{ key : d[key] for key in sorted(d.keys())}"
   ],
   "metadata": {
    "collapsed": false
   }
  },
  {
   "cell_type": "code",
   "execution_count": 36,
   "outputs": [
    {
     "data": {
      "text/plain": "[('eight', 8), ('five', 5), ('one', 1), ('three', 3)]"
     },
     "execution_count": 36,
     "metadata": {},
     "output_type": "execute_result"
    }
   ],
   "source": [
    "sorted(d.items(),key=lambda x:x[0])"
   ],
   "metadata": {
    "collapsed": false
   }
  },
  {
   "cell_type": "code",
   "execution_count": 37,
   "outputs": [
    {
     "data": {
      "text/plain": "{0: 0, 2: 1, 1: 2, 4: 3, 3: 4}"
     },
     "execution_count": 37,
     "metadata": {},
     "output_type": "execute_result"
    }
   ],
   "source": [
    "# 按\"值\"对字典进行排序\n",
    "x = {1: 2, 3: 4, 4: 3, 2: 1, 0: 0}\n",
    "{k: v for k, v in sorted(x.items(), key=lambda item: item[1])}"
   ],
   "metadata": {
    "collapsed": false
   }
  },
  {
   "cell_type": "code",
   "execution_count": 39,
   "outputs": [
    {
     "data": {
      "text/plain": "[(0, 0), (2, 1), (1, 2), (4, 3), (3, 4)]"
     },
     "execution_count": 39,
     "metadata": {},
     "output_type": "execute_result"
    }
   ],
   "source": [
    "sorted(x.items(),key=lambda i:i[1])"
   ],
   "metadata": {
    "collapsed": false
   }
  },
  {
   "cell_type": "code",
   "execution_count": 40,
   "outputs": [
    {
     "name": "stdout",
     "output_type": "stream",
     "text": [
      "[3, 4, 5, 1, 2]\n"
     ]
    }
   ],
   "source": [
    "# 旋转列表\n",
    "li = [1, 2, 3, 4, 5]\n",
    "# 从左边（头部）转出\n",
    "print(li[2:]+li[:2])"
   ],
   "metadata": {
    "collapsed": false
   }
  },
  {
   "cell_type": "code",
   "execution_count": 41,
   "outputs": [
    {
     "name": "stdout",
     "output_type": "stream",
     "text": [
      "[5, 1, 2, 3, 4]\n"
     ]
    }
   ],
   "source": [
    "# 从右边（尾部）转出\n",
    "print(li[-1:]+li[:-1])"
   ],
   "metadata": {
    "collapsed": false
   }
  },
  {
   "cell_type": "code",
   "execution_count": 45,
   "outputs": [
    {
     "data": {
      "text/plain": "'abcdeffgvcg'"
     },
     "execution_count": 45,
     "metadata": {},
     "output_type": "execute_result"
    }
   ],
   "source": [
    "# 从字符串中删除数字\n",
    "\"\".join(list(filter(lambda x : x.isalpha(), \"abc123def4fg56vcg2\")))"
   ],
   "metadata": {
    "collapsed": false
   }
  },
  {
   "cell_type": "code",
   "execution_count": 50,
   "outputs": [
    {
     "name": "stdout",
     "output_type": "stream",
     "text": [
      "[(1, 3, 5), (2, 4, 6), (3, 6, 7)]\n",
      "[[1, 3, 5], [2, 4, 6], [3, 6, 7]]\n"
     ]
    }
   ],
   "source": [
    "# 转置矩阵\n",
    "old_list = [[1, 2, 3], [3, 4, 6], [5, 6, 7]]\n",
    "print(list(zip(*old_list)))\n",
    "print(list(list(x) for x in zip(*old_list)))"
   ],
   "metadata": {
    "collapsed": false
   }
  },
  {
   "cell_type": "code",
   "execution_count": 53,
   "outputs": [
    {
     "name": "stdout",
     "output_type": "stream",
     "text": [
      "<filter object at 0x000002A25A9AD100>\n"
     ]
    },
    {
     "data": {
      "text/plain": "[2, 4, 6, 8]"
     },
     "execution_count": 53,
     "metadata": {},
     "output_type": "execute_result"
    }
   ],
   "source": [
    "# 从列表中过滤偶数\n",
    "print(filter(lambda x: x%2==0, [1,2,3,4,5,6,7,8]))\n",
    "list(filter(lambda x: x%2==0, [1,2,3,4,5,6,7,8]))"
   ],
   "metadata": {
    "collapsed": false
   }
  },
  {
   "cell_type": "code",
   "execution_count": 54,
   "outputs": [
    {
     "name": "stdout",
     "output_type": "stream",
     "text": [
      "1\n",
      "[2, 3, 4]\n",
      "5\n"
     ]
    }
   ],
   "source": [
    "# 解包操作\n",
    "a, *b, c = [1,2,3,4,5]\n",
    "print(a)\n",
    "print(b)\n",
    "print(c)"
   ],
   "metadata": {
    "collapsed": false
   }
  },
  {
   "cell_type": "code",
   "execution_count": 55,
   "outputs": [
    {
     "name": "stdout",
     "output_type": "stream",
     "text": [
      "{'A': 1, 'B': 2, 'C': 3, 'D': 4}\n",
      "{'A': 1, 'B': 2, 'C': 3, 'D': 4}\n",
      "{'C': 3, 'D': 4, 'A': 1, 'B': 2}\n"
     ]
    }
   ],
   "source": [
    "# 一行合并字典\n",
    "d1 = {\"A\":1, \"B\":2}\n",
    "d2 = {\"C\":3, \"D\":4}\n",
    "d1.update(d2)\n",
    "print(d1)\n",
    "d3 = {**d1, **d2}\n",
    "print(d3)\n",
    "d4 = {**d2, **d1}\n",
    "print(d4)"
   ],
   "metadata": {
    "collapsed": false
   }
  },
  {
   "cell_type": "code",
   "execution_count": 59,
   "outputs": [
    {
     "name": "stdout",
     "output_type": "stream",
     "text": [
      "ok\n",
      "Error\n"
     ]
    }
   ],
   "source": [
    "# 一行异常处理\n",
    "# 一般如下\n",
    "try:\n",
    "    print(\"ok\")\n",
    "except:\n",
    "    print(\"error\")\n",
    "\n",
    "# 单行方式\n",
    "exec(\"try:prinnnnnnnt('ok')\\nexcept:print('Error')\")"
   ],
   "metadata": {
    "collapsed": false
   }
  },
  {
   "cell_type": "code",
   "execution_count": 61,
   "outputs": [
    {
     "name": "stdout",
     "output_type": "stream",
     "text": [
      "{0: 'john', 1: ' peter', 2: ' mathew', 3: 'tom'}\n"
     ]
    }
   ],
   "source": [
    "# 一行列表转字典\n",
    "li1 = [\"john\", \" peter\", \" mathew\", \"tom\"]\n",
    "dict1 = dict(enumerate(li1))\n",
    "print(dict1)"
   ],
   "metadata": {
    "collapsed": false
   }
  },
  {
   "cell_type": "code",
   "execution_count": 66,
   "outputs": [
    {
     "name": "stdout",
     "output_type": "stream",
     "text": [
      "['helloWorld\\n', 'worldHello\\n']\n",
      "['helloWorld\\n', 'worldHello\\n']\n"
     ]
    }
   ],
   "source": [
    "# 单行读取文件\n",
    "# 一般操作如下\n",
    "with open(\"hello.txt\", \"r\") as f:\n",
    "    #data = f.readline()\n",
    "    data1 = f.readlines()\n",
    "    #print(data)\n",
    "    print(data1)\n",
    "\n",
    "# 单行形式\n",
    "data = [line for line in open(\"hello.txt\", \"r\")]\n",
    "print(data)"
   ],
   "metadata": {
    "collapsed": false
   }
  },
  {
   "cell_type": "code",
   "execution_count": 70,
   "outputs": [
    {
     "name": "stdout",
     "output_type": "stream",
     "text": [
      "tigers 22\n",
      "sheep 22\n",
      "goats 23\n"
     ]
    }
   ],
   "source": [
    "# 一行类\n",
    "# 普通方式\n",
    "class Emp:\n",
    "    def __init__(self, name, age):\n",
    "        self.name = name\n",
    "        self.age = age\n",
    "emp1 =Emp(\"tigers\", 22)\n",
    "print(emp1.name, emp1.age)\n",
    "\n",
    "# 单行方式\n",
    "# 方法1 带有动态Attributes\n",
    "Emp = lambda: None; Emp.name = \"sheep\"; Emp.age = 22\n",
    "print(Emp.name, Emp.age)\n",
    "\n",
    "# 方法2\n",
    "from collections import namedtuple\n",
    "Emp1 = namedtuple(\"Emp1\", [\"name\", \"age\"])(\"goats\",23)\n",
    "print(Emp1.name, Emp1.age)"
   ],
   "metadata": {
    "collapsed": false
   }
  },
  {
   "cell_type": "code",
   "execution_count": 73,
   "outputs": [
    {
     "name": "stdout",
     "output_type": "stream",
     "text": [
      "1\n",
      "2\n",
      "3\n",
      "4\n",
      "6 7 8 9\n",
      "11 12\n"
     ]
    }
   ],
   "source": [
    "# 一行打印\n",
    "# 正常打印\n",
    "for x in range(1,5):\n",
    "    print(x)\n",
    "\n",
    "# 一行打印\n",
    "print(*range(6,10))\n",
    "print(*range(11,13))"
   ],
   "metadata": {
    "collapsed": false
   }
  },
  {
   "cell_type": "code",
   "execution_count": 74,
   "outputs": [
    {
     "name": "stdout",
     "output_type": "stream",
     "text": [
      "[7, 8, 9, 10, 11, 12]\n"
     ]
    }
   ],
   "source": [
    "# 一行map函数\n",
    "# map函数是高阶函数，这将函数应用于每个元素，\n",
    "print(list(map(lambda a: a+2, [5,6,7,8,9,10])))"
   ],
   "metadata": {
    "collapsed": false
   }
  },
  {
   "cell_type": "code",
   "execution_count": 75,
   "outputs": [
    {
     "name": "stdout",
     "output_type": "stream",
     "text": [
      "[100, 300, 500]\n"
     ]
    }
   ],
   "source": [
    "# 使用del方法在一行代码中删除list中的多个元素\n",
    "li2 = [100, 200, 300, 400, 500]\n",
    "del li2[1::2] # 第一个到最后，每隔两个删除\n",
    "print(li2)"
   ],
   "metadata": {
    "collapsed": false
   }
  },
  {
   "cell_type": "code",
   "execution_count": 76,
   "outputs": [
    {
     "name": "stdout",
     "output_type": "stream",
     "text": [
      "[2, 3, 5, 7, 11, 13, 17, 19]\n"
     ]
    }
   ],
   "source": [
    "# 一行查找质数\n",
    "m=20\n",
    "print(list(filter(lambda a: all(a%b!=0 for b in range(2,a)), range(2,m))))"
   ],
   "metadata": {
    "collapsed": false
   }
  },
  {
   "cell_type": "code",
   "execution_count": null,
   "outputs": [],
   "source": [],
   "metadata": {
    "collapsed": false
   }
  }
 ],
 "metadata": {
  "language_info": {
   "name": "python"
  }
 },
 "nbformat": 4,
 "nbformat_minor": 2
}
