{
 "cells": [
  {
   "cell_type": "code",
   "execution_count": 1,
   "metadata": {
    "collapsed": true
   },
   "outputs": [],
   "source": [
    "# 几种方法可以减少if条件语句的冗余，使代码更加简洁和易读"
   ]
  },
  {
   "cell_type": "code",
   "execution_count": 2,
   "outputs": [
    {
     "name": "stdout",
     "output_type": "stream",
     "text": [
      "hello\n"
     ]
    }
   ],
   "source": [
    "# 1. 使用逻辑运算符，减少if\n",
    "# 例如and可以连接多个条件\n",
    "if \"condition1\" and \"condition2\":\n",
    "    print(\"hello\")\n"
   ],
   "metadata": {
    "collapsed": false
   }
  },
  {
   "cell_type": "code",
   "execution_count": 3,
   "outputs": [
    {
     "name": "stdout",
     "output_type": "stream",
     "text": [
      "action for value2\n"
     ]
    }
   ],
   "source": [
    "# 2. 字典映射\n",
    "# 如果if语句用于根据某个变量的值执行不同的操作，则可以用字典映射\n",
    "actions = {\n",
    "    \"value1\": lambda: print(\"action for value1\"),\n",
    "    \"value2\": lambda: print(\"action for value2\"),\n",
    "    #...\n",
    "}\n",
    "value = \"value2\"\n",
    "if value in actions:\n",
    "    actions[value]()"
   ],
   "metadata": {
    "collapsed": false
   }
  },
  {
   "cell_type": "code",
   "execution_count": 4,
   "outputs": [
    {
     "name": "stdout",
     "output_type": "stream",
     "text": [
      "action for value1\n"
     ]
    }
   ],
   "source": [
    "value = \"value1\"\n",
    "actions[value]()"
   ],
   "metadata": {
    "collapsed": false
   }
  },
  {
   "cell_type": "code",
   "execution_count": 5,
   "outputs": [
    {
     "name": "stdout",
     "output_type": "stream",
     "text": [
      "handle condition1\n"
     ]
    }
   ],
   "source": [
    "# 3. 函数封装\n",
    "# 如果if语句中的代码块是重复的，可将这些代码块封装成函数，并在if语句中调用这些函数\n",
    "def handle_condition1():\n",
    "    print(\"handle condition1\")\n",
    "\n",
    "\n",
    "def handle_condition2():\n",
    "    print(\"handle condition2\")\n",
    "\n",
    "if \"condition1\":\n",
    "    handle_condition1()\n",
    "elif \"condition2\":\n",
    "    handle_condition2()"
   ],
   "metadata": {
    "collapsed": false
   }
  },
  {
   "cell_type": "code",
   "execution_count": 6,
   "outputs": [
    {
     "name": "stdout",
     "output_type": "stream",
     "text": [
      "[3, 4, 5, 3]\n"
     ]
    }
   ],
   "source": [
    "# 4. 列表推导式或生成式表达式\n",
    "# 如果if语句用于过滤或转换列表中的元素，可以使用列表推导式或生成器表达式来简化\n",
    "\n",
    "# 列表推导式(过滤)\n",
    "original_list = [1,3,2,1,4,5,2,3]\n",
    "filtered_list = [x for x in original_list if x > 2]\n",
    "print(filtered_list)"
   ],
   "metadata": {
    "collapsed": false
   }
  },
  {
   "cell_type": "code",
   "execution_count": 23,
   "outputs": [
    {
     "name": "stdout",
     "output_type": "stream",
     "text": [
      "<generator object <genexpr> at 0x00000286486649E0>\n"
     ]
    }
   ],
   "source": [
    "# 生成器表达式\n",
    "filtered_generator = (x**2 for x in original_list if x >= 3)\n",
    "print(filtered_generator)\n",
    "# print(list(filtered_generator)) # [9, 16, 25, 9]"
   ],
   "metadata": {
    "collapsed": false
   }
  },
  {
   "cell_type": "code",
   "execution_count": 24,
   "outputs": [
    {
     "name": "stdout",
     "output_type": "stream",
     "text": [
      "9\n",
      "16\n",
      "25\n",
      "9\n"
     ]
    }
   ],
   "source": [
    "for i in filtered_generator:\n",
    "    print(i)"
   ],
   "metadata": {
    "collapsed": false
   }
  },
  {
   "cell_type": "code",
   "execution_count": 25,
   "outputs": [
    {
     "name": "stdout",
     "output_type": "stream",
     "text": [
      "ok\n"
     ]
    }
   ],
   "source": [
    "# 5. any()函数或all函数\n",
    "# 如果if语句检查的是可迭代对象中的任何元素或所有元素是否满足某个条件，使用any或all函数\n",
    "if any(x > 2 for x in original_list):\n",
    "    # 只要有符合条件的，就打印\n",
    "    print(\"ok\")"
   ],
   "metadata": {
    "collapsed": false
   }
  },
  {
   "cell_type": "code",
   "execution_count": 27,
   "outputs": [
    {
     "name": "stdout",
     "output_type": "stream",
     "text": [
      "ok\n"
     ]
    }
   ],
   "source": [
    "if all(x>0 for x in original_list):\n",
    "    print(\"ok\")\n",
    "else:\n",
    "    print(\"no\")"
   ],
   "metadata": {
    "collapsed": false
   }
  },
  {
   "cell_type": "code",
   "execution_count": 28,
   "outputs": [
    {
     "name": "stdout",
     "output_type": "stream",
     "text": [
      "no\n"
     ]
    }
   ],
   "source": [
    "# 只有全部满足才会进入\n",
    "if all(x>1 for x in original_list):\n",
    "    print(\"ok\")\n",
    "else:\n",
    "    print(\"no\")"
   ],
   "metadata": {
    "collapsed": false
   }
  },
  {
   "cell_type": "code",
   "execution_count": 29,
   "outputs": [
    {
     "ename": "SyntaxError",
     "evalue": "invalid syntax (440948623.py, line 4)",
     "output_type": "error",
     "traceback": [
      "\u001B[1;36m  Cell \u001B[1;32mIn[29], line 4\u001B[1;36m\u001B[0m\n\u001B[1;33m    match value1:\u001B[0m\n\u001B[1;37m          ^\u001B[0m\n\u001B[1;31mSyntaxError\u001B[0m\u001B[1;31m:\u001B[0m invalid syntax\n"
     ]
    }
   ],
   "source": [
    "# 6. 使用case语句\n",
    "# 从python3.10开始，增加了match和case语句来替代一些复杂的if-elif-else结构\n",
    "value1 = \"value1\"\n",
    "match value1:\n",
    "    case \"value1\":\n",
    "        print(\"match value1\")\n",
    "    case \"value2\":\n",
    "        print(\"match value2\")"
   ],
   "metadata": {
    "collapsed": false
   }
  },
  {
   "cell_type": "code",
   "execution_count": null,
   "outputs": [],
   "source": [
    "# 7. 减少嵌套\n",
    "# 对于在函数中嵌套的if语句，可以通过重新组织代码逻辑或使用早期return来减少嵌套层级\n",
    "condition_ = False\n",
    "if not condition_:\n",
    "    return 0\n",
    "# 其他代码"
   ],
   "metadata": {
    "collapsed": false
   }
  },
  {
   "cell_type": "code",
   "execution_count": 30,
   "outputs": [],
   "source": [
    "# 8. 使用默认参数和函数默认值\n",
    "# 对于某些条件检查，可以用函数参数的默认值来简化代码\n",
    "def func(a = \"default_value\"):\n",
    "    if a == \"default_value\":\n",
    "        print(\"default\")\n",
    "    else:\n",
    "        print(\"else\")"
   ],
   "metadata": {
    "collapsed": false
   }
  },
  {
   "cell_type": "code",
   "execution_count": 31,
   "outputs": [
    {
     "name": "stdout",
     "output_type": "stream",
     "text": [
      "default\n"
     ]
    }
   ],
   "source": [
    "func()"
   ],
   "metadata": {
    "collapsed": false
   }
  },
  {
   "cell_type": "code",
   "execution_count": 32,
   "outputs": [
    {
     "name": "stdout",
     "output_type": "stream",
     "text": [
      "else\n"
     ]
    }
   ],
   "source": [
    "func(\"spec\")"
   ],
   "metadata": {
    "collapsed": false
   }
  },
  {
   "cell_type": "code",
   "execution_count": null,
   "outputs": [],
   "source": [],
   "metadata": {
    "collapsed": false
   }
  }
 ],
 "metadata": {
  "kernelspec": {
   "display_name": "Python 3",
   "language": "python",
   "name": "python3"
  },
  "language_info": {
   "codemirror_mode": {
    "name": "ipython",
    "version": 2
   },
   "file_extension": ".py",
   "mimetype": "text/x-python",
   "name": "python",
   "nbconvert_exporter": "python",
   "pygments_lexer": "ipython2",
   "version": "2.7.6"
  }
 },
 "nbformat": 4,
 "nbformat_minor": 0
}
