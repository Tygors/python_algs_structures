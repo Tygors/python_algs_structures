{
 "cells": [
  {
   "cell_type": "code",
   "execution_count": 25,
   "metadata": {
    "collapsed": true
   },
   "outputs": [],
   "source": [
    "class Fraction:\n",
    "\n",
    "    def __init__(self, top, bottom):\n",
    "\n",
    "        self.num = top\n",
    "        self.den = bottom\n",
    "\n",
    "    def __add__(self, otherfraction):\n",
    "\n",
    "        newnum = self.num * otherfraction.den + \\\n",
    "        self.den * otherfraction.num\n",
    "        newden = self.den * otherfraction.den\n",
    "        return Fraction(newnum, newden)\n",
    "    def __str__(self):\n",
    "        return str(self.num) + \"/\" + str(self.den)"
   ]
  },
  {
   "cell_type": "code",
   "execution_count": 26,
   "outputs": [],
   "source": [
    "a=Fraction(1,2)\n",
    "b=Fraction(1,3)"
   ],
   "metadata": {
    "collapsed": false
   }
  },
  {
   "cell_type": "code",
   "execution_count": 27,
   "outputs": [
    {
     "name": "stdout",
     "output_type": "stream",
     "text": [
      "5/6\n"
     ]
    }
   ],
   "source": [
    "print(a+b)"
   ],
   "metadata": {
    "collapsed": false
   }
  },
  {
   "cell_type": "code",
   "execution_count": 28,
   "outputs": [
    {
     "name": "stdout",
     "output_type": "stream",
     "text": [
      "1/2\n"
     ]
    }
   ],
   "source": [
    "print(a)"
   ],
   "metadata": {
    "collapsed": false
   }
  },
  {
   "cell_type": "code",
   "execution_count": 29,
   "outputs": [
    {
     "name": "stdout",
     "output_type": "stream",
     "text": [
      "1/3\n"
     ]
    }
   ],
   "source": [
    "print(b)"
   ],
   "metadata": {
    "collapsed": false
   }
  },
  {
   "cell_type": "code",
   "execution_count": 30,
   "outputs": [
    {
     "name": "stdout",
     "output_type": "stream",
     "text": [
      "5/6\n"
     ]
    }
   ],
   "source": [
    "print(a.__add__(b))"
   ],
   "metadata": {
    "collapsed": false
   }
  },
  {
   "cell_type": "code",
   "execution_count": 1,
   "outputs": [],
   "source": [
    "def test1():\n",
    "    l = []\n",
    "    for i in range(1000):\n",
    "        l = l + [i]\n",
    "\n",
    "def test2():\n",
    "    l = []\n",
    "    for i in range(1000):\n",
    "        l.append(i)\n",
    "\n",
    "def test3():\n",
    "    l = [i for i in range(1000)]\n",
    "\n",
    "def test4():\n",
    "    l = list(range(1000))"
   ],
   "metadata": {
    "collapsed": false
   }
  },
  {
   "cell_type": "code",
   "execution_count": 2,
   "outputs": [
    {
     "name": "stdout",
     "output_type": "stream",
     "text": [
      "concat  1.3309637999999997 milliseconds\n",
      "append  0.05236350000000023 milliseconds\n",
      "comprehension  0.02630969999999966 milliseconds\n",
      "list range  0.008257299999999912 milliseconds\n"
     ]
    }
   ],
   "source": [
    "from timeit import Timer\n",
    "t1 = Timer(\"test1()\", \"from __main__ import test1\")\n",
    "print(\"concat \", t1.timeit(number=1000), \"milliseconds\")\n",
    "t2 = Timer(\"test2()\", \"from __main__ import test2\")\n",
    "print(\"append \", t2.timeit(number=1000), \"milliseconds\")\n",
    "t3 = Timer(\"test3()\", \"from __main__ import test3\")\n",
    "print(\"comprehension \", t3.timeit(number=1000), \"milliseconds\")\n",
    "t4 = Timer(\"test4()\", \"from __main__ import test4\")\n",
    "print(\"list range \", t4.timeit(number=1000), \"milliseconds\")"
   ],
   "metadata": {
    "collapsed": false
   }
  },
  {
   "cell_type": "code",
   "execution_count": 66,
   "outputs": [
    {
     "data": {
      "text/plain": "0.10201379999944038"
     },
     "execution_count": 66,
     "metadata": {},
     "output_type": "execute_result"
    }
   ],
   "source": [
    "popzero = Timer(\"x.pop(0)\",\"from __main__ import x\")\n",
    "popend = Timer(\"x.pop()\",\"from __main__ import x\")\n",
    "x = list(range(20000))\n",
    "popzero.timeit(number=2000)"
   ],
   "metadata": {
    "collapsed": false
   }
  },
  {
   "cell_type": "code",
   "execution_count": 67,
   "outputs": [
    {
     "data": {
      "text/plain": "0.09258570000019972"
     },
     "execution_count": 67,
     "metadata": {},
     "output_type": "execute_result"
    }
   ],
   "source": [
    "popzero.timeit(number=2000)"
   ],
   "metadata": {
    "collapsed": false
   }
  },
  {
   "cell_type": "code",
   "execution_count": 68,
   "outputs": [
    {
     "data": {
      "text/plain": "8.69999994392856e-05"
     },
     "execution_count": 68,
     "metadata": {},
     "output_type": "execute_result"
    }
   ],
   "source": [
    "popend.timeit(number=2000)"
   ],
   "metadata": {
    "collapsed": false
   }
  },
  {
   "cell_type": "code",
   "execution_count": 69,
   "outputs": [
    {
     "data": {
      "text/plain": "0.00013530000069295056"
     },
     "execution_count": 69,
     "metadata": {},
     "output_type": "execute_result"
    }
   ],
   "source": [
    "popend.timeit(number=2000)"
   ],
   "metadata": {
    "collapsed": false
   }
  },
  {
   "cell_type": "code",
   "execution_count": 70,
   "outputs": [
    {
     "data": {
      "text/plain": "0.00015770000027259812"
     },
     "execution_count": 70,
     "metadata": {},
     "output_type": "execute_result"
    }
   ],
   "source": [
    "popend.timeit(number=2000)"
   ],
   "metadata": {
    "collapsed": false
   }
  },
  {
   "cell_type": "code",
   "execution_count": 72,
   "outputs": [
    {
     "name": "stdout",
     "output_type": "stream",
     "text": [
      "pop(0) pop()\n",
      "len(x) 1000000\n",
      "        2.57707,         0.00005\n",
      "len(x) 2000000\n",
      "        4.94687,         0.00009\n",
      "len(x) 3000000\n",
      "        7.33860,         0.00005\n",
      "len(x) 4000000\n",
      "        9.93743,         0.00005\n",
      "len(x) 5000000\n",
      "       13.13896,         0.00006\n",
      "len(x) 6000000\n",
      "       16.92295,         0.00006\n",
      "len(x) 7000000\n",
      "       22.89639,         0.00006\n",
      "len(x) 8000000\n",
      "       26.05059,         0.00005\n",
      "len(x) 9000000\n",
      "       29.81815,         0.00009\n",
      "len(x) 10000000\n",
      "       32.57129,         0.00011\n"
     ]
    }
   ],
   "source": [
    "popzero = Timer(\"x.pop(0)\",\"from __main__ import x\")\n",
    "popend = Timer(\"x.pop()\",\"from __main__ import x\")\n",
    "print(\"pop(0) pop()\")\n",
    "for i in range(1000000, 10000001, 1000000):\n",
    "    x = list(range(i))\n",
    "    print(\"len(x)\",len(x))\n",
    "    pt = popend.timeit(number=1000)\n",
    "    x = list(range(i))\n",
    "    pz = popzero.timeit(number=1000)\n",
    "    print(\"%15.5f, %15.5f\" % (pz, pt))"
   ],
   "metadata": {
    "collapsed": false
   }
  },
  {
   "cell_type": "code",
   "execution_count": 76,
   "outputs": [
    {
     "name": "stdout",
     "output_type": "stream",
     "text": [
      "len(x):10000, list:     0.052, map:     0.001\n",
      "len(x):60000, list:     0.280, map:     0.001\n",
      "len(x):110000, list:     0.517, map:     0.001\n",
      "len(x):160000, list:     0.886, map:     0.001\n",
      "len(x):210000, list:     0.894, map:     0.001\n",
      "len(x):260000, list:     1.214, map:     0.001\n",
      "len(x):310000, list:     1.452, map:     0.001\n",
      "len(x):360000, list:     1.773, map:     0.001\n",
      "len(x):410000, list:     1.939, map:     0.001\n",
      "len(x):460000, list:     2.133, map:     0.001\n",
      "len(x):510000, list:     2.442, map:     0.001\n",
      "len(x):560000, list:     2.844, map:     0.001\n",
      "len(x):610000, list:     2.964, map:     0.001\n",
      "len(x):660000, list:     3.220, map:     0.001\n",
      "len(x):710000, list:     3.621, map:     0.001\n",
      "len(x):760000, list:     3.718, map:     0.001\n",
      "len(x):810000, list:     3.964, map:     0.001\n",
      "len(x):860000, list:     4.138, map:     0.001\n",
      "len(x):910000, list:     4.386, map:     0.001\n",
      "len(x):960000, list:     4.595, map:     0.001\n"
     ]
    }
   ],
   "source": [
    "import timeit\n",
    "import random\n",
    "\n",
    "for i in range(10000, 1000001, 50000):\n",
    "    t = timeit.Timer(\"random.randrange(%d) in x\" % i,\"from __main__ import random, x\")\n",
    "    x = list(range(i))\n",
    "    lst_time = t.timeit(number=1000)\n",
    "    x = {j:None for j in range(i)}\n",
    "    d_time = t.timeit(number=1000)\n",
    "    print(\"len(x):%d, list:%10.3f, map:%10.3f\" % (i, lst_time, d_time))"
   ],
   "metadata": {
    "collapsed": false
   }
  },
  {
   "cell_type": "code",
   "execution_count": null,
   "outputs": [],
   "source": [],
   "metadata": {
    "collapsed": false
   }
  }
 ],
 "metadata": {
  "kernelspec": {
   "display_name": "Python 3",
   "language": "python",
   "name": "python3"
  },
  "language_info": {
   "codemirror_mode": {
    "name": "ipython",
    "version": 2
   },
   "file_extension": ".py",
   "mimetype": "text/x-python",
   "name": "python",
   "nbconvert_exporter": "python",
   "pygments_lexer": "ipython2",
   "version": "2.7.6"
  }
 },
 "nbformat": 4,
 "nbformat_minor": 0
}
