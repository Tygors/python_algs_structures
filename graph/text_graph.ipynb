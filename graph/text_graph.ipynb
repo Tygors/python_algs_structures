{
 "cells": [
  {
   "cell_type": "code",
   "execution_count": 1,
   "metadata": {
    "collapsed": true
   },
   "outputs": [],
   "source": [
    "from Graph import Graph"
   ]
  },
  {
   "cell_type": "code",
   "execution_count": 2,
   "outputs": [],
   "source": [
    "g = Graph()"
   ],
   "metadata": {
    "collapsed": false
   }
  },
  {
   "cell_type": "code",
   "execution_count": 3,
   "outputs": [],
   "source": [
    "for i in range(6):\n",
    "    g.set_vertex(i)"
   ],
   "metadata": {
    "collapsed": false
   }
  },
  {
   "cell_type": "code",
   "execution_count": 4,
   "outputs": [
    {
     "data": {
      "text/plain": "dict_keys([0, 1, 2, 3, 4, 5])"
     },
     "execution_count": 4,
     "metadata": {},
     "output_type": "execute_result"
    }
   ],
   "source": [
    "g.get_vertices()"
   ],
   "metadata": {
    "collapsed": false
   }
  },
  {
   "cell_type": "code",
   "execution_count": 6,
   "outputs": [
    {
     "data": {
      "text/plain": "{0: Vertex(0),\n 1: Vertex(1),\n 2: Vertex(2),\n 3: Vertex(3),\n 4: Vertex(4),\n 5: Vertex(5)}"
     },
     "execution_count": 6,
     "metadata": {},
     "output_type": "execute_result"
    }
   ],
   "source": [
    "g.vertices"
   ],
   "metadata": {
    "collapsed": false
   }
  },
  {
   "cell_type": "code",
   "execution_count": 7,
   "outputs": [],
   "source": [
    "g.add_edge(0,1,5)\n",
    "g.add_edge(0,5,2)\n",
    "g.add_edge(1,2,4)\n",
    "g.add_edge(2,3,9)\n",
    "g.add_edge(3,4,7)\n",
    "g.add_edge(3,5,3)\n",
    "g.add_edge(4,0,1)\n",
    "g.add_edge(5,4,8)\n",
    "g.add_edge(5,2,1)"
   ],
   "metadata": {
    "collapsed": false
   }
  },
  {
   "cell_type": "code",
   "execution_count": 8,
   "outputs": [
    {
     "name": "stdout",
     "output_type": "stream",
     "text": [
      "(0,1)\n",
      "(0,5)\n",
      "(1,2)\n",
      "(2,3)\n",
      "(3,4)\n",
      "(3,5)\n",
      "(4,0)\n",
      "(5,4)\n",
      "(5,2)\n"
     ]
    }
   ],
   "source": [
    "for v in g:\n",
    "    for w in v.get_neighbors():\n",
    "        print(f\"({v.get_key()},{w.get_key()})\")"
   ],
   "metadata": {
    "collapsed": false
   }
  },
  {
   "cell_type": "code",
   "execution_count": null,
   "outputs": [],
   "source": [],
   "metadata": {
    "collapsed": false
   }
  }
 ],
 "metadata": {
  "kernelspec": {
   "display_name": "Python 3",
   "language": "python",
   "name": "python3"
  },
  "language_info": {
   "codemirror_mode": {
    "name": "ipython",
    "version": 2
   },
   "file_extension": ".py",
   "mimetype": "text/x-python",
   "name": "python",
   "nbconvert_exporter": "python",
   "pygments_lexer": "ipython2",
   "version": "2.7.6"
  }
 },
 "nbformat": 4,
 "nbformat_minor": 0
}
